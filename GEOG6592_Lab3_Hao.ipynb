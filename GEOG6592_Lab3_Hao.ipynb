{
  "nbformat": 4,
  "nbformat_minor": 0,
  "metadata": {
    "colab": {
      "provenance": [],
      "authorship_tag": "ABX9TyOQnffA/b6J8UPhzZaw5Ssh",
      "include_colab_link": true
    },
    "kernelspec": {
      "name": "python3",
      "display_name": "Python 3"
    },
    "language_info": {
      "name": "python"
    }
  },
  "cells": [
    {
      "cell_type": "markdown",
      "metadata": {
        "id": "view-in-github",
        "colab_type": "text"
      },
      "source": [
        "<a href=\"https://colab.research.google.com/github/hy96161/Human-Activity-Pattern-Mining/blob/main/GEOG6592_Lab3_Hao.ipynb\" target=\"_parent\"><img src=\"https://colab.research.google.com/assets/colab-badge.svg\" alt=\"Open In Colab\"/></a>"
      ]
    },
    {
      "cell_type": "code",
      "execution_count": 15,
      "metadata": {
        "id": "f1o6h4L0s7MW"
      },
      "outputs": [],
      "source": [
        "import os\n",
        "import pandas as pd\n",
        "import matplotlib.pyplot as plt\n",
        "import numpy as np\n",
        "\n",
        "import torch\n",
        "import torch.nn as nn\n",
        "import torch.optim as optim\n",
        "import torch.utils.data as data"
      ]
    },
    {
      "cell_type": "markdown",
      "source": [
        "# 1. Precipitation Time Series Exploration and Visualization"
      ],
      "metadata": {
        "id": "CUGUwN52MYTq"
      }
    },
    {
      "cell_type": "code",
      "source": [
        "filepath = \"/content/HW_precipitation_1939_2024.csv\"\n",
        "\n",
        "df = pd.read_csv(filepath, skiprows=[0,1,2,3])"
      ],
      "metadata": {
        "id": "qSxyXn6EHVeI"
      },
      "execution_count": 16,
      "outputs": []
    },
    {
      "cell_type": "code",
      "source": [
        "df"
      ],
      "metadata": {
        "colab": {
          "base_uri": "https://localhost:8080/",
          "height": 423
        },
        "id": "ey8MziieH16Q",
        "outputId": "3afc0343-0637-42dc-be34-952dca59bde2"
      },
      "execution_count": 17,
      "outputs": [
        {
          "output_type": "execute_result",
          "data": {
            "text/plain": [
              "        Date  Value  Anomaly\n",
              "0     194006   0.57     0.07\n",
              "1     194007   0.69     0.18\n",
              "2     194008   0.42    -0.42\n",
              "3     194009   0.46    -0.37\n",
              "4     194010   1.53     0.02\n",
              "...      ...    ...      ...\n",
              "1000  202310   0.58    -0.93\n",
              "1001  202311   2.15    -0.10\n",
              "1002  202312   0.89    -1.27\n",
              "1003  202401   2.65     0.83\n",
              "1004  202402   0.16    -1.78\n",
              "\n",
              "[1005 rows x 3 columns]"
            ],
            "text/html": [
              "\n",
              "  <div id=\"df-5a5f78a0-bfca-4db0-b469-1b8e65ef5fb7\" class=\"colab-df-container\">\n",
              "    <div>\n",
              "<style scoped>\n",
              "    .dataframe tbody tr th:only-of-type {\n",
              "        vertical-align: middle;\n",
              "    }\n",
              "\n",
              "    .dataframe tbody tr th {\n",
              "        vertical-align: top;\n",
              "    }\n",
              "\n",
              "    .dataframe thead th {\n",
              "        text-align: right;\n",
              "    }\n",
              "</style>\n",
              "<table border=\"1\" class=\"dataframe\">\n",
              "  <thead>\n",
              "    <tr style=\"text-align: right;\">\n",
              "      <th></th>\n",
              "      <th>Date</th>\n",
              "      <th>Value</th>\n",
              "      <th>Anomaly</th>\n",
              "    </tr>\n",
              "  </thead>\n",
              "  <tbody>\n",
              "    <tr>\n",
              "      <th>0</th>\n",
              "      <td>194006</td>\n",
              "      <td>0.57</td>\n",
              "      <td>0.07</td>\n",
              "    </tr>\n",
              "    <tr>\n",
              "      <th>1</th>\n",
              "      <td>194007</td>\n",
              "      <td>0.69</td>\n",
              "      <td>0.18</td>\n",
              "    </tr>\n",
              "    <tr>\n",
              "      <th>2</th>\n",
              "      <td>194008</td>\n",
              "      <td>0.42</td>\n",
              "      <td>-0.42</td>\n",
              "    </tr>\n",
              "    <tr>\n",
              "      <th>3</th>\n",
              "      <td>194009</td>\n",
              "      <td>0.46</td>\n",
              "      <td>-0.37</td>\n",
              "    </tr>\n",
              "    <tr>\n",
              "      <th>4</th>\n",
              "      <td>194010</td>\n",
              "      <td>1.53</td>\n",
              "      <td>0.02</td>\n",
              "    </tr>\n",
              "    <tr>\n",
              "      <th>...</th>\n",
              "      <td>...</td>\n",
              "      <td>...</td>\n",
              "      <td>...</td>\n",
              "    </tr>\n",
              "    <tr>\n",
              "      <th>1000</th>\n",
              "      <td>202310</td>\n",
              "      <td>0.58</td>\n",
              "      <td>-0.93</td>\n",
              "    </tr>\n",
              "    <tr>\n",
              "      <th>1001</th>\n",
              "      <td>202311</td>\n",
              "      <td>2.15</td>\n",
              "      <td>-0.10</td>\n",
              "    </tr>\n",
              "    <tr>\n",
              "      <th>1002</th>\n",
              "      <td>202312</td>\n",
              "      <td>0.89</td>\n",
              "      <td>-1.27</td>\n",
              "    </tr>\n",
              "    <tr>\n",
              "      <th>1003</th>\n",
              "      <td>202401</td>\n",
              "      <td>2.65</td>\n",
              "      <td>0.83</td>\n",
              "    </tr>\n",
              "    <tr>\n",
              "      <th>1004</th>\n",
              "      <td>202402</td>\n",
              "      <td>0.16</td>\n",
              "      <td>-1.78</td>\n",
              "    </tr>\n",
              "  </tbody>\n",
              "</table>\n",
              "<p>1005 rows × 3 columns</p>\n",
              "</div>\n",
              "    <div class=\"colab-df-buttons\">\n",
              "\n",
              "  <div class=\"colab-df-container\">\n",
              "    <button class=\"colab-df-convert\" onclick=\"convertToInteractive('df-5a5f78a0-bfca-4db0-b469-1b8e65ef5fb7')\"\n",
              "            title=\"Convert this dataframe to an interactive table.\"\n",
              "            style=\"display:none;\">\n",
              "\n",
              "  <svg xmlns=\"http://www.w3.org/2000/svg\" height=\"24px\" viewBox=\"0 -960 960 960\">\n",
              "    <path d=\"M120-120v-720h720v720H120Zm60-500h600v-160H180v160Zm220 220h160v-160H400v160Zm0 220h160v-160H400v160ZM180-400h160v-160H180v160Zm440 0h160v-160H620v160ZM180-180h160v-160H180v160Zm440 0h160v-160H620v160Z\"/>\n",
              "  </svg>\n",
              "    </button>\n",
              "\n",
              "  <style>\n",
              "    .colab-df-container {\n",
              "      display:flex;\n",
              "      gap: 12px;\n",
              "    }\n",
              "\n",
              "    .colab-df-convert {\n",
              "      background-color: #E8F0FE;\n",
              "      border: none;\n",
              "      border-radius: 50%;\n",
              "      cursor: pointer;\n",
              "      display: none;\n",
              "      fill: #1967D2;\n",
              "      height: 32px;\n",
              "      padding: 0 0 0 0;\n",
              "      width: 32px;\n",
              "    }\n",
              "\n",
              "    .colab-df-convert:hover {\n",
              "      background-color: #E2EBFA;\n",
              "      box-shadow: 0px 1px 2px rgba(60, 64, 67, 0.3), 0px 1px 3px 1px rgba(60, 64, 67, 0.15);\n",
              "      fill: #174EA6;\n",
              "    }\n",
              "\n",
              "    .colab-df-buttons div {\n",
              "      margin-bottom: 4px;\n",
              "    }\n",
              "\n",
              "    [theme=dark] .colab-df-convert {\n",
              "      background-color: #3B4455;\n",
              "      fill: #D2E3FC;\n",
              "    }\n",
              "\n",
              "    [theme=dark] .colab-df-convert:hover {\n",
              "      background-color: #434B5C;\n",
              "      box-shadow: 0px 1px 3px 1px rgba(0, 0, 0, 0.15);\n",
              "      filter: drop-shadow(0px 1px 2px rgba(0, 0, 0, 0.3));\n",
              "      fill: #FFFFFF;\n",
              "    }\n",
              "  </style>\n",
              "\n",
              "    <script>\n",
              "      const buttonEl =\n",
              "        document.querySelector('#df-5a5f78a0-bfca-4db0-b469-1b8e65ef5fb7 button.colab-df-convert');\n",
              "      buttonEl.style.display =\n",
              "        google.colab.kernel.accessAllowed ? 'block' : 'none';\n",
              "\n",
              "      async function convertToInteractive(key) {\n",
              "        const element = document.querySelector('#df-5a5f78a0-bfca-4db0-b469-1b8e65ef5fb7');\n",
              "        const dataTable =\n",
              "          await google.colab.kernel.invokeFunction('convertToInteractive',\n",
              "                                                    [key], {});\n",
              "        if (!dataTable) return;\n",
              "\n",
              "        const docLinkHtml = 'Like what you see? Visit the ' +\n",
              "          '<a target=\"_blank\" href=https://colab.research.google.com/notebooks/data_table.ipynb>data table notebook</a>'\n",
              "          + ' to learn more about interactive tables.';\n",
              "        element.innerHTML = '';\n",
              "        dataTable['output_type'] = 'display_data';\n",
              "        await google.colab.output.renderOutput(dataTable, element);\n",
              "        const docLink = document.createElement('div');\n",
              "        docLink.innerHTML = docLinkHtml;\n",
              "        element.appendChild(docLink);\n",
              "      }\n",
              "    </script>\n",
              "  </div>\n",
              "\n",
              "\n",
              "<div id=\"df-eeed19bd-4900-4417-ad08-7154cb737ca5\">\n",
              "  <button class=\"colab-df-quickchart\" onclick=\"quickchart('df-eeed19bd-4900-4417-ad08-7154cb737ca5')\"\n",
              "            title=\"Suggest charts\"\n",
              "            style=\"display:none;\">\n",
              "\n",
              "<svg xmlns=\"http://www.w3.org/2000/svg\" height=\"24px\"viewBox=\"0 0 24 24\"\n",
              "     width=\"24px\">\n",
              "    <g>\n",
              "        <path d=\"M19 3H5c-1.1 0-2 .9-2 2v14c0 1.1.9 2 2 2h14c1.1 0 2-.9 2-2V5c0-1.1-.9-2-2-2zM9 17H7v-7h2v7zm4 0h-2V7h2v10zm4 0h-2v-4h2v4z\"/>\n",
              "    </g>\n",
              "</svg>\n",
              "  </button>\n",
              "\n",
              "<style>\n",
              "  .colab-df-quickchart {\n",
              "      --bg-color: #E8F0FE;\n",
              "      --fill-color: #1967D2;\n",
              "      --hover-bg-color: #E2EBFA;\n",
              "      --hover-fill-color: #174EA6;\n",
              "      --disabled-fill-color: #AAA;\n",
              "      --disabled-bg-color: #DDD;\n",
              "  }\n",
              "\n",
              "  [theme=dark] .colab-df-quickchart {\n",
              "      --bg-color: #3B4455;\n",
              "      --fill-color: #D2E3FC;\n",
              "      --hover-bg-color: #434B5C;\n",
              "      --hover-fill-color: #FFFFFF;\n",
              "      --disabled-bg-color: #3B4455;\n",
              "      --disabled-fill-color: #666;\n",
              "  }\n",
              "\n",
              "  .colab-df-quickchart {\n",
              "    background-color: var(--bg-color);\n",
              "    border: none;\n",
              "    border-radius: 50%;\n",
              "    cursor: pointer;\n",
              "    display: none;\n",
              "    fill: var(--fill-color);\n",
              "    height: 32px;\n",
              "    padding: 0;\n",
              "    width: 32px;\n",
              "  }\n",
              "\n",
              "  .colab-df-quickchart:hover {\n",
              "    background-color: var(--hover-bg-color);\n",
              "    box-shadow: 0 1px 2px rgba(60, 64, 67, 0.3), 0 1px 3px 1px rgba(60, 64, 67, 0.15);\n",
              "    fill: var(--button-hover-fill-color);\n",
              "  }\n",
              "\n",
              "  .colab-df-quickchart-complete:disabled,\n",
              "  .colab-df-quickchart-complete:disabled:hover {\n",
              "    background-color: var(--disabled-bg-color);\n",
              "    fill: var(--disabled-fill-color);\n",
              "    box-shadow: none;\n",
              "  }\n",
              "\n",
              "  .colab-df-spinner {\n",
              "    border: 2px solid var(--fill-color);\n",
              "    border-color: transparent;\n",
              "    border-bottom-color: var(--fill-color);\n",
              "    animation:\n",
              "      spin 1s steps(1) infinite;\n",
              "  }\n",
              "\n",
              "  @keyframes spin {\n",
              "    0% {\n",
              "      border-color: transparent;\n",
              "      border-bottom-color: var(--fill-color);\n",
              "      border-left-color: var(--fill-color);\n",
              "    }\n",
              "    20% {\n",
              "      border-color: transparent;\n",
              "      border-left-color: var(--fill-color);\n",
              "      border-top-color: var(--fill-color);\n",
              "    }\n",
              "    30% {\n",
              "      border-color: transparent;\n",
              "      border-left-color: var(--fill-color);\n",
              "      border-top-color: var(--fill-color);\n",
              "      border-right-color: var(--fill-color);\n",
              "    }\n",
              "    40% {\n",
              "      border-color: transparent;\n",
              "      border-right-color: var(--fill-color);\n",
              "      border-top-color: var(--fill-color);\n",
              "    }\n",
              "    60% {\n",
              "      border-color: transparent;\n",
              "      border-right-color: var(--fill-color);\n",
              "    }\n",
              "    80% {\n",
              "      border-color: transparent;\n",
              "      border-right-color: var(--fill-color);\n",
              "      border-bottom-color: var(--fill-color);\n",
              "    }\n",
              "    90% {\n",
              "      border-color: transparent;\n",
              "      border-bottom-color: var(--fill-color);\n",
              "    }\n",
              "  }\n",
              "</style>\n",
              "\n",
              "  <script>\n",
              "    async function quickchart(key) {\n",
              "      const quickchartButtonEl =\n",
              "        document.querySelector('#' + key + ' button');\n",
              "      quickchartButtonEl.disabled = true;  // To prevent multiple clicks.\n",
              "      quickchartButtonEl.classList.add('colab-df-spinner');\n",
              "      try {\n",
              "        const charts = await google.colab.kernel.invokeFunction(\n",
              "            'suggestCharts', [key], {});\n",
              "      } catch (error) {\n",
              "        console.error('Error during call to suggestCharts:', error);\n",
              "      }\n",
              "      quickchartButtonEl.classList.remove('colab-df-spinner');\n",
              "      quickchartButtonEl.classList.add('colab-df-quickchart-complete');\n",
              "    }\n",
              "    (() => {\n",
              "      let quickchartButtonEl =\n",
              "        document.querySelector('#df-eeed19bd-4900-4417-ad08-7154cb737ca5 button');\n",
              "      quickchartButtonEl.style.display =\n",
              "        google.colab.kernel.accessAllowed ? 'block' : 'none';\n",
              "    })();\n",
              "  </script>\n",
              "</div>\n",
              "\n",
              "  <div id=\"id_a6c93ff6-ac2a-4b48-8a27-f1674d4de697\">\n",
              "    <style>\n",
              "      .colab-df-generate {\n",
              "        background-color: #E8F0FE;\n",
              "        border: none;\n",
              "        border-radius: 50%;\n",
              "        cursor: pointer;\n",
              "        display: none;\n",
              "        fill: #1967D2;\n",
              "        height: 32px;\n",
              "        padding: 0 0 0 0;\n",
              "        width: 32px;\n",
              "      }\n",
              "\n",
              "      .colab-df-generate:hover {\n",
              "        background-color: #E2EBFA;\n",
              "        box-shadow: 0px 1px 2px rgba(60, 64, 67, 0.3), 0px 1px 3px 1px rgba(60, 64, 67, 0.15);\n",
              "        fill: #174EA6;\n",
              "      }\n",
              "\n",
              "      [theme=dark] .colab-df-generate {\n",
              "        background-color: #3B4455;\n",
              "        fill: #D2E3FC;\n",
              "      }\n",
              "\n",
              "      [theme=dark] .colab-df-generate:hover {\n",
              "        background-color: #434B5C;\n",
              "        box-shadow: 0px 1px 3px 1px rgba(0, 0, 0, 0.15);\n",
              "        filter: drop-shadow(0px 1px 2px rgba(0, 0, 0, 0.3));\n",
              "        fill: #FFFFFF;\n",
              "      }\n",
              "    </style>\n",
              "    <button class=\"colab-df-generate\" onclick=\"generateWithVariable('df')\"\n",
              "            title=\"Generate code using this dataframe.\"\n",
              "            style=\"display:none;\">\n",
              "\n",
              "  <svg xmlns=\"http://www.w3.org/2000/svg\" height=\"24px\"viewBox=\"0 0 24 24\"\n",
              "       width=\"24px\">\n",
              "    <path d=\"M7,19H8.4L18.45,9,17,7.55,7,17.6ZM5,21V16.75L18.45,3.32a2,2,0,0,1,2.83,0l1.4,1.43a1.91,1.91,0,0,1,.58,1.4,1.91,1.91,0,0,1-.58,1.4L9.25,21ZM18.45,9,17,7.55Zm-12,3A5.31,5.31,0,0,0,4.9,8.1,5.31,5.31,0,0,0,1,6.5,5.31,5.31,0,0,0,4.9,4.9,5.31,5.31,0,0,0,6.5,1,5.31,5.31,0,0,0,8.1,4.9,5.31,5.31,0,0,0,12,6.5,5.46,5.46,0,0,0,6.5,12Z\"/>\n",
              "  </svg>\n",
              "    </button>\n",
              "    <script>\n",
              "      (() => {\n",
              "      const buttonEl =\n",
              "        document.querySelector('#id_a6c93ff6-ac2a-4b48-8a27-f1674d4de697 button.colab-df-generate');\n",
              "      buttonEl.style.display =\n",
              "        google.colab.kernel.accessAllowed ? 'block' : 'none';\n",
              "\n",
              "      buttonEl.onclick = () => {\n",
              "        google.colab.notebook.generateWithVariable('df');\n",
              "      }\n",
              "      })();\n",
              "    </script>\n",
              "  </div>\n",
              "\n",
              "    </div>\n",
              "  </div>\n"
            ],
            "application/vnd.google.colaboratory.intrinsic+json": {
              "type": "dataframe",
              "variable_name": "df",
              "summary": "{\n  \"name\": \"df\",\n  \"rows\": 1005,\n  \"fields\": [\n    {\n      \"column\": \"Date\",\n      \"properties\": {\n        \"dtype\": \"number\",\n        \"std\": 2419,\n        \"min\": 194006,\n        \"max\": 202402,\n        \"num_unique_values\": 1005,\n        \"samples\": [\n          201708,\n          199212,\n          199704\n        ],\n        \"semantic_type\": \"\",\n        \"description\": \"\"\n      }\n    },\n    {\n      \"column\": \"Value\",\n      \"properties\": {\n        \"dtype\": \"number\",\n        \"std\": 9.283604110941827,\n        \"min\": -99.0,\n        \"max\": 20.79,\n        \"num_unique_values\": 370,\n        \"samples\": [\n          0.91,\n          0.16,\n          2.87\n        ],\n        \"semantic_type\": \"\",\n        \"description\": \"\"\n      }\n    },\n    {\n      \"column\": \"Anomaly\",\n      \"properties\": {\n        \"dtype\": \"number\",\n        \"std\": 9.124856952494138,\n        \"min\": -99.0,\n        \"max\": 18.43,\n        \"num_unique_values\": 431,\n        \"samples\": [\n          -1.85,\n          4.27,\n          -0.15\n        ],\n        \"semantic_type\": \"\",\n        \"description\": \"\"\n      }\n    }\n  ]\n}"
            }
          },
          "metadata": {},
          "execution_count": 17
        }
      ]
    },
    {
      "cell_type": "code",
      "source": [
        "df[\"Date\"].dtype"
      ],
      "metadata": {
        "colab": {
          "base_uri": "https://localhost:8080/"
        },
        "id": "SnfgvjJXJl94",
        "outputId": "b9a2dfab-3d10-4ccb-84db-abd58a0ba6fa"
      },
      "execution_count": 18,
      "outputs": [
        {
          "output_type": "execute_result",
          "data": {
            "text/plain": [
              "dtype('int64')"
            ]
          },
          "metadata": {},
          "execution_count": 18
        }
      ]
    },
    {
      "cell_type": "code",
      "source": [
        "import datetime\n",
        "\n",
        "df[\"Date\"] = df['Date'].astype(str)\n",
        "def convert_to_datetime(date_str):\n",
        "    return datetime.datetime.strptime(date_str, \"%Y%m\")\n",
        "\n",
        "df['DateTime'] = df['Date'].apply(convert_to_datetime)\n",
        "\n",
        "# Display the DataFrame with the updated \"Date\" column\n",
        "print(df)"
      ],
      "metadata": {
        "colab": {
          "base_uri": "https://localhost:8080/"
        },
        "id": "VhWA0xSuIAD4",
        "outputId": "5fc1a256-3d64-4d72-981e-ec977f38f11a"
      },
      "execution_count": 19,
      "outputs": [
        {
          "output_type": "stream",
          "name": "stdout",
          "text": [
            "        Date  Value  Anomaly   DateTime\n",
            "0     194006   0.57     0.07 1940-06-01\n",
            "1     194007   0.69     0.18 1940-07-01\n",
            "2     194008   0.42    -0.42 1940-08-01\n",
            "3     194009   0.46    -0.37 1940-09-01\n",
            "4     194010   1.53     0.02 1940-10-01\n",
            "...      ...    ...      ...        ...\n",
            "1000  202310   0.58    -0.93 2023-10-01\n",
            "1001  202311   2.15    -0.10 2023-11-01\n",
            "1002  202312   0.89    -1.27 2023-12-01\n",
            "1003  202401   2.65     0.83 2024-01-01\n",
            "1004  202402   0.16    -1.78 2024-02-01\n",
            "\n",
            "[1005 rows x 4 columns]\n"
          ]
        }
      ]
    },
    {
      "cell_type": "code",
      "source": [
        "plt.plot(df['DateTime'], df['Value'])\n",
        "plt.xlabel('Date')\n",
        "plt.ylabel('Value')\n",
        "plt.show()"
      ],
      "metadata": {
        "colab": {
          "base_uri": "https://localhost:8080/",
          "height": 449
        },
        "id": "1flVOW68L8Yj",
        "outputId": "8789012c-256a-4764-d345-a681cc3b0e4a"
      },
      "execution_count": 20,
      "outputs": [
        {
          "output_type": "display_data",
          "data": {
            "text/plain": [
              "<Figure size 640x480 with 1 Axes>"
            ],
            "image/png": "[encoded data removed]"
          },
          "metadata": {}
        }
      ]
    },
    {
      "cell_type": "code",
      "source": [
        "### process missing values, linear interpolation\n",
        "df['Value'] = df['Value'].replace(-99, np.nan)"
      ],
      "metadata": {
        "id": "L4SDiLGKMez7"
      },
      "execution_count": 21,
      "outputs": []
    },
    {
      "cell_type": "code",
      "source": [
        "df['Value'] = pd.to_numeric(df['Value'], errors='coerce')\n",
        "\n",
        "df['Value'] = df['Value'].interpolate(method='linear')"
      ],
      "metadata": {
        "id": "r1GH4NXMP-5r"
      },
      "execution_count": 22,
      "outputs": []
    },
    {
      "cell_type": "code",
      "source": [
        "timeseries = df['Value'].values.astype('float32')\n",
        "timeseries"
      ],
      "metadata": {
        "colab": {
          "base_uri": "https://localhost:8080/"
        },
        "id": "b9ZoF8waRdwq",
        "outputId": "6cf73346-5855-43d5-ea8d-75e988b68115"
      },
      "execution_count": 23,
      "outputs": [
        {
          "output_type": "execute_result",
          "data": {
            "text/plain": [
              "array([0.57, 0.69, 0.42, ..., 0.89, 2.65, 0.16], dtype=float32)"
            ]
          },
          "metadata": {},
          "execution_count": 23
        }
      ]
    },
    {
      "cell_type": "markdown",
      "source": [
        "# 2.Convert the dataset and do the train-test split"
      ],
      "metadata": {
        "id": "yzR47qCzTFQG"
      }
    },
    {
      "cell_type": "code",
      "source": [
        "import torch\n",
        "\n",
        "### create dataset, X and y\n",
        "def create_dataset(dataset, lookback):\n",
        "    X, y = [], []\n",
        "    for i in range(len(dataset)-lookback):\n",
        "        feature = dataset[i:i+lookback]\n",
        "        target = dataset[i+1:i+lookback+1]\n",
        "        X.append(feature)\n",
        "        y.append(target)\n",
        "    return torch.tensor(X), torch.tensor(y)\n"
      ],
      "metadata": {
        "id": "EcaoSNzkQjwq"
      },
      "execution_count": 24,
      "outputs": []
    },
    {
      "cell_type": "code",
      "source": [
        "n_len = 12\n",
        "X, y = create_dataset(dataset = timeseries, lookback = n_len)"
      ],
      "metadata": {
        "id": "PjlUUsHsSIJp"
      },
      "execution_count": 25,
      "outputs": []
    },
    {
      "cell_type": "code",
      "source": [
        "X.shape,y.shape"
      ],
      "metadata": {
        "colab": {
          "base_uri": "https://localhost:8080/"
        },
        "id": "u3zcyVmSSU2L",
        "outputId": "e27d5a94-7f07-4df9-e16c-fb0da47ca89a"
      },
      "execution_count": 26,
      "outputs": [
        {
          "output_type": "execute_result",
          "data": {
            "text/plain": [
              "(torch.Size([993, 12]), torch.Size([993, 12]))"
            ]
          },
          "metadata": {},
          "execution_count": 26
        }
      ]
    },
    {
      "cell_type": "code",
      "source": [
        "# train-test split\n",
        "train_size = int(len(timeseries)*0.8)\n",
        "test_size = len(timeseries) - train_size\n",
        "\n",
        "X_train, y_train = X[:train_size], y[:train_size]\n",
        "X_test, y_test = X[train_size:], y[train_size:]\n",
        "\n"
      ],
      "metadata": {
        "id": "oxYRTFqHShLm"
      },
      "execution_count": 27,
      "outputs": []
    },
    {
      "cell_type": "code",
      "source": [
        "X_train.shape, X_test.shape, y_train.shape"
      ],
      "metadata": {
        "colab": {
          "base_uri": "https://localhost:8080/"
        },
        "id": "cGS8E9hwS1IQ",
        "outputId": "716012c2-6568-46c5-bef2-5fd1e5de4ca2"
      },
      "execution_count": 28,
      "outputs": [
        {
          "output_type": "execute_result",
          "data": {
            "text/plain": [
              "(torch.Size([804, 12]), torch.Size([189, 12]), torch.Size([804, 12]))"
            ]
          },
          "metadata": {},
          "execution_count": 28
        }
      ]
    },
    {
      "cell_type": "markdown",
      "source": [
        "# 3. TimeSeriesNN model"
      ],
      "metadata": {
        "id": "oFLzjUj1TTTO"
      }
    },
    {
      "cell_type": "code",
      "source": [
        "class TimeSeriesNN(nn.Module):\n",
        "    def __init__(self, input_size=1, hidden_size=50, num_layers=1, batch_first=True, output_size = 1):\n",
        "        super().__init__()\n",
        "        self.input_size = input_size\n",
        "        self.hidden_size = hidden_size\n",
        "        self.num_layers = num_layers\n",
        "\n",
        "        # If True, then the input and output tensors are provided as (batch, seq, feature) instead of (seq, batch, feature).\n",
        "        self.batch_first = batch_first\n",
        "        # see https://pytorch.org/docs/stable/generated/torch.nn.LSTM.html\n",
        "        self.lstm = nn.LSTM(input_size=input_size,\n",
        "                            hidden_size=hidden_size,\n",
        "                            num_layers=num_layers,\n",
        "                            batch_first=batch_first)\n",
        "        self.linear = nn.Linear(hidden_size*num_layers, output_size)\n",
        "\n",
        "    def forward(self, x):\n",
        "        # x: shape (N, L, D∗H_out)\n",
        "        x, _ = self.lstm(x)\n",
        "        # x: shape (N, L, output_size)\n",
        "        x = self.linear(x)\n",
        "        return x\n",
        "\n"
      ],
      "metadata": {
        "id": "HtwsYkNUTVh1"
      },
      "execution_count": 43,
      "outputs": []
    },
    {
      "cell_type": "code",
      "source": [
        "model = TimeSeriesNN()\n",
        "optimizer = optim.Adam(model.parameters(), lr = 0.0001)\n",
        "loss_fn = nn.L1Loss()\n",
        "\n",
        "\n",
        "train_loader = data.DataLoader(data.TensorDataset(X_train, y_train), shuffle=True, batch_size=8)\n",
        "test_loader = data.DataLoader(data.TensorDataset(X_test, y_test), shuffle=False, batch_size=8)\n",
        "\n"
      ],
      "metadata": {
        "id": "iFBGDlaL2WVr"
      },
      "execution_count": 47,
      "outputs": []
    },
    {
      "cell_type": "code",
      "source": [
        "for i, (X_batch, y_batch) in enumerate(train_loader):\n",
        "    print(f\"Batch {i + 1}\")\n",
        "    print(\"X_batch shape:\", X_batch.shape)  # Shape of the features in the batch\n",
        "    print(\"y_batch shape:\", y_batch.shape)  # Shape of the labels in the batch\n",
        "\n",
        "    # Optionally break the loop if you only want to check the first batch\n",
        "    break"
      ],
      "metadata": {
        "colab": {
          "base_uri": "https://localhost:8080/"
        },
        "id": "j83dXho96y1C",
        "outputId": "ea6a0781-bbfa-448b-aadd-3729cd426ddb"
      },
      "execution_count": 48,
      "outputs": [
        {
          "output_type": "stream",
          "name": "stdout",
          "text": [
            "Batch 1\n",
            "X_batch shape: torch.Size([8, 12])\n",
            "y_batch shape: torch.Size([8, 12])\n"
          ]
        }
      ]
    },
    {
      "cell_type": "markdown",
      "source": [
        "# 4.Train the TimeseriesNN model"
      ],
      "metadata": {
        "id": "deg5iOvt-713"
      }
    },
    {
      "cell_type": "code",
      "source": [
        "def train(model, loader, loss_fn, optimizer):\n",
        "    model.train()\n",
        "    y_label_list = []\n",
        "    y_pred_list = []\n",
        "    for X_batch, y_batch in loader:\n",
        "        y_pred = model(X_batch.unsqueeze(-1))\n",
        "        y_pred_list.append(y_pred)\n",
        "        y_label_list.append(y_batch.unsqueeze(-1))\n",
        "        loss = loss_fn(y_pred, y_batch.unsqueeze(-1))\n",
        "        optimizer.zero_grad()\n",
        "        loss.backward()\n",
        "        optimizer.step()\n",
        "\n",
        "    y_label = torch.cat(y_label_list)\n",
        "    y_pred = torch.cat(y_pred_list)\n",
        "    mae = loss_fn(y_pred, y_label)\n",
        "    #mae = np.sqrt(aloss.item())\n",
        "    return loss, mae, y_pred, y_label\n"
      ],
      "metadata": {
        "id": "JNu_0mjl3AXj"
      },
      "execution_count": 52,
      "outputs": []
    },
    {
      "cell_type": "code",
      "source": [
        "def test(model, loader, loss_fn):\n",
        "    model.eval()\n",
        "    with torch.no_grad():\n",
        "        y_label_list = []\n",
        "        y_pred_list = []\n",
        "        for X_batch, y_batch in loader:\n",
        "            y_pred_list.append(model(X_batch.unsqueeze(-1)))\n",
        "            y_label_list.append(y_batch.unsqueeze(-1))\n",
        "\n",
        "        y_label = torch.cat(y_label_list)\n",
        "        y_pred = torch.cat(y_pred_list)\n",
        "        loss = loss_fn(y_pred, y_label)\n",
        "        mae = loss\n",
        "        #mae = np.sqrt(loss.item())\n",
        "        return loss, mae, y_pred, y_label"
      ],
      "metadata": {
        "id": "aSE8-ihi8N7E"
      },
      "execution_count": 53,
      "outputs": []
    },
    {
      "cell_type": "code",
      "source": [
        "n_epochs = 100\n",
        "for epoch in range(n_epochs):\n",
        "    _, train_mae, _, _ = train(model, train_loader, loss_fn, optimizer)\n",
        "\n",
        "    _, test_mae, y_testpred, y_testlabel = test(model, test_loader, loss_fn)\n",
        "\n",
        "\n",
        "    print(\"Epoch %d: train mae %.4f, test mae %.4f\" % (epoch, train_mae, test_mae))"
      ],
      "metadata": {
        "colab": {
          "base_uri": "https://localhost:8080/"
        },
        "id": "omqM0eas8U-8",
        "outputId": "bfa1b1cd-e29f-4f94-b65d-86768b1f4442"
      },
      "execution_count": 56,
      "outputs": [
        {
          "output_type": "stream",
          "name": "stdout",
          "text": [
            "Epoch 0: train mae 1.2823, test mae 1.0931\n",
            "Epoch 1: train mae 1.2821, test mae 1.0933\n",
            "Epoch 2: train mae 1.2817, test mae 1.0856\n",
            "Epoch 3: train mae 1.2823, test mae 1.0931\n",
            "Epoch 4: train mae 1.2816, test mae 1.0901\n",
            "Epoch 5: train mae 1.2812, test mae 1.0927\n",
            "Epoch 6: train mae 1.2811, test mae 1.0889\n",
            "Epoch 7: train mae 1.2808, test mae 1.0906\n",
            "Epoch 8: train mae 1.2809, test mae 1.0939\n",
            "Epoch 9: train mae 1.2806, test mae 1.0978\n",
            "Epoch 10: train mae 1.2807, test mae 1.0922\n",
            "Epoch 11: train mae 1.2801, test mae 1.0953\n",
            "Epoch 12: train mae 1.2802, test mae 1.0929\n",
            "Epoch 13: train mae 1.2798, test mae 1.0914\n",
            "Epoch 14: train mae 1.2797, test mae 1.0956\n",
            "Epoch 15: train mae 1.2794, test mae 1.0913\n",
            "Epoch 16: train mae 1.2792, test mae 1.0942\n",
            "Epoch 17: train mae 1.2790, test mae 1.0938\n",
            "Epoch 18: train mae 1.2787, test mae 1.0931\n",
            "Epoch 19: train mae 1.2787, test mae 1.0940\n",
            "Epoch 20: train mae 1.2785, test mae 1.0905\n",
            "Epoch 21: train mae 1.2782, test mae 1.0931\n",
            "Epoch 22: train mae 1.2777, test mae 1.0869\n",
            "Epoch 23: train mae 1.2777, test mae 1.0937\n",
            "Epoch 24: train mae 1.2777, test mae 1.0970\n",
            "Epoch 25: train mae 1.2775, test mae 1.0970\n",
            "Epoch 26: train mae 1.2772, test mae 1.0914\n",
            "Epoch 27: train mae 1.2772, test mae 1.0923\n",
            "Epoch 28: train mae 1.2767, test mae 1.0960\n",
            "Epoch 29: train mae 1.2765, test mae 1.0925\n",
            "Epoch 30: train mae 1.2763, test mae 1.0954\n",
            "Epoch 31: train mae 1.2761, test mae 1.0929\n",
            "Epoch 32: train mae 1.2761, test mae 1.0959\n",
            "Epoch 33: train mae 1.2757, test mae 1.0958\n",
            "Epoch 34: train mae 1.2755, test mae 1.0961\n",
            "Epoch 35: train mae 1.2754, test mae 1.0932\n",
            "Epoch 36: train mae 1.2753, test mae 1.0965\n",
            "Epoch 37: train mae 1.2754, test mae 1.0945\n",
            "Epoch 38: train mae 1.2746, test mae 1.0947\n",
            "Epoch 39: train mae 1.2749, test mae 1.0931\n",
            "Epoch 40: train mae 1.2745, test mae 1.0970\n",
            "Epoch 41: train mae 1.2742, test mae 1.0960\n",
            "Epoch 42: train mae 1.2743, test mae 1.0919\n",
            "Epoch 43: train mae 1.2738, test mae 1.0962\n",
            "Epoch 44: train mae 1.2736, test mae 1.0977\n",
            "Epoch 45: train mae 1.2734, test mae 1.0939\n",
            "Epoch 46: train mae 1.2734, test mae 1.0963\n",
            "Epoch 47: train mae 1.2730, test mae 1.0923\n",
            "Epoch 48: train mae 1.2731, test mae 1.0955\n",
            "Epoch 49: train mae 1.2729, test mae 1.0906\n",
            "Epoch 50: train mae 1.2729, test mae 1.0951\n",
            "Epoch 51: train mae 1.2725, test mae 1.0969\n",
            "Epoch 52: train mae 1.2721, test mae 1.0986\n",
            "Epoch 53: train mae 1.2720, test mae 1.0971\n",
            "Epoch 54: train mae 1.2718, test mae 1.0983\n",
            "Epoch 55: train mae 1.2714, test mae 1.1008\n",
            "Epoch 56: train mae 1.2715, test mae 1.0962\n",
            "Epoch 57: train mae 1.2712, test mae 1.0969\n",
            "Epoch 58: train mae 1.2709, test mae 1.0969\n",
            "Epoch 59: train mae 1.2707, test mae 1.1000\n",
            "Epoch 60: train mae 1.2705, test mae 1.0997\n",
            "Epoch 61: train mae 1.2710, test mae 1.1038\n",
            "Epoch 62: train mae 1.2706, test mae 1.0968\n",
            "Epoch 63: train mae 1.2701, test mae 1.1009\n",
            "Epoch 64: train mae 1.2699, test mae 1.0947\n",
            "Epoch 65: train mae 1.2695, test mae 1.0992\n",
            "Epoch 66: train mae 1.2697, test mae 1.0955\n",
            "Epoch 67: train mae 1.2692, test mae 1.0984\n",
            "Epoch 68: train mae 1.2694, test mae 1.1001\n",
            "Epoch 69: train mae 1.2690, test mae 1.0974\n",
            "Epoch 70: train mae 1.2689, test mae 1.0963\n",
            "Epoch 71: train mae 1.2687, test mae 1.0947\n",
            "Epoch 72: train mae 1.2682, test mae 1.0987\n",
            "Epoch 73: train mae 1.2683, test mae 1.0945\n",
            "Epoch 74: train mae 1.2683, test mae 1.0971\n",
            "Epoch 75: train mae 1.2680, test mae 1.1000\n",
            "Epoch 76: train mae 1.2676, test mae 1.0988\n",
            "Epoch 77: train mae 1.2675, test mae 1.0988\n",
            "Epoch 78: train mae 1.2670, test mae 1.1030\n",
            "Epoch 79: train mae 1.2672, test mae 1.1097\n",
            "Epoch 80: train mae 1.2669, test mae 1.1001\n",
            "Epoch 81: train mae 1.2667, test mae 1.1000\n",
            "Epoch 82: train mae 1.2667, test mae 1.1027\n",
            "Epoch 83: train mae 1.2657, test mae 1.1111\n",
            "Epoch 84: train mae 1.2666, test mae 1.1010\n",
            "Epoch 85: train mae 1.2658, test mae 1.0987\n",
            "Epoch 86: train mae 1.2657, test mae 1.1006\n",
            "Epoch 87: train mae 1.2652, test mae 1.1074\n",
            "Epoch 88: train mae 1.2649, test mae 1.1002\n",
            "Epoch 89: train mae 1.2650, test mae 1.1014\n",
            "Epoch 90: train mae 1.2661, test mae 1.1025\n",
            "Epoch 91: train mae 1.2648, test mae 1.1015\n",
            "Epoch 92: train mae 1.2648, test mae 1.1087\n",
            "Epoch 93: train mae 1.2644, test mae 1.1027\n",
            "Epoch 94: train mae 1.2642, test mae 1.1062\n",
            "Epoch 95: train mae 1.2639, test mae 1.1005\n",
            "Epoch 96: train mae 1.2637, test mae 1.1033\n",
            "Epoch 97: train mae 1.2635, test mae 1.1032\n",
            "Epoch 98: train mae 1.2636, test mae 1.1000\n",
            "Epoch 99: train mae 1.2633, test mae 1.1074\n"
          ]
        }
      ]
    },
    {
      "cell_type": "markdown",
      "source": [
        "# 5.Visualize the predicted time series together with the ground truth"
      ],
      "metadata": {
        "id": "TRDKiJTMEwmY"
      }
    },
    {
      "cell_type": "code",
      "source": [
        "# Plot ith time series in the test data, Predicted VS Ground Truth\n",
        "import matplotlib.pyplot as plt\n",
        "def plottimeseries(y_testlabel, y_testpred,i):\n",
        "  plt.figure()\n",
        "  plt.plot(y_testpred[i].tolist(), label='label', marker='o')\n",
        "  plt.plot(y_testlabel[i].tolist(), label='prediction', marker='x')\n",
        "  plt.title('Predicted VS Ground Truth')\n",
        "  plt.xlabel('Index')\n",
        "  plt.ylabel('Precipitation')\n",
        "\n"
      ],
      "metadata": {
        "id": "rytKOLdvGAYz"
      },
      "execution_count": 87,
      "outputs": []
    },
    {
      "cell_type": "code",
      "source": [
        "plottimeseries(y_testlabel,y_testpred,11)"
      ],
      "metadata": {
        "colab": {
          "base_uri": "https://localhost:8080/",
          "height": 472
        },
        "id": "1qyHVOh7GnZW",
        "outputId": "faf85470-0206-412c-8164-6b588bae73e2"
      },
      "execution_count": 88,
      "outputs": [
        {
          "output_type": "display_data",
          "data": {
            "text/plain": [
              "<Figure size 640x480 with 1 Axes>"
            ],
            "image/png": "[encoded data removed]"
          },
          "metadata": {}
        }
      ]
    },
    {
      "cell_type": "code",
      "source": [
        "#y_testpred, y_testlabel\n",
        "y_testpred1 = y_testpred[1].tolist()\n",
        "y_testlabel1 = y_testlabel[1].tolist()"
      ],
      "metadata": {
        "id": "_0Xxq60BE_HV"
      },
      "execution_count": 81,
      "outputs": []
    },
    {
      "cell_type": "code",
      "source": [
        "plt.figure()\n",
        "\n",
        "plt.plot(y_testlabel1, label='label', marker='o')  # Adds markers to each data point\n",
        "plt.plot(y_testpred1, label='prediction', marker='x')  # Adds markers to each data point"
      ],
      "metadata": {
        "colab": {
          "base_uri": "https://localhost:8080/",
          "height": 447
        },
        "id": "JTlkm61nFOfu",
        "outputId": "69d8cd22-6a74-4524-d519-a3b15b893dbe"
      },
      "execution_count": 82,
      "outputs": [
        {
          "output_type": "execute_result",
          "data": {
            "text/plain": [
              "[<matplotlib.lines.Line2D at 0x793f48ca8430>]"
            ]
          },
          "metadata": {},
          "execution_count": 82
        },
        {
          "output_type": "display_data",
          "data": {
            "text/plain": [
              "<Figure size 640x480 with 1 Axes>"
            ],
            "image/png": "[encoded data removed]"
          },
          "metadata": {}
        }
      ]
    }
  ]
}